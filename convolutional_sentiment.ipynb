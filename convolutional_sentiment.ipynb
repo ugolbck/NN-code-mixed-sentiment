{
  "nbformat": 4,
  "nbformat_minor": 0,
  "metadata": {
    "colab": {
      "name": "convolutional.ipynb",
      "provenance": [],
      "collapsed_sections": [],
      "machine_shape": "hm",
      "include_colab_link": true
    },
    "kernelspec": {
      "name": "python3",
      "display_name": "Python 3"
    },
    "accelerator": "GPU"
  },
  "cells": [
    {
      "cell_type": "markdown",
      "metadata": {
        "id": "view-in-github",
        "colab_type": "text"
      },
      "source": [
        "<a href=\"https://colab.research.google.com/github/ugolbck/CNN-code-mixed-sentiment/blob/master/convolutional_sentiment.ipynb\" target=\"_parent\"><img src=\"https://colab.research.google.com/assets/colab-badge.svg\" alt=\"Open In Colab\"/></a>"
      ]
    },
    {
      "cell_type": "markdown",
      "metadata": {
        "id": "I6dD3j7nBicK",
        "colab_type": "text"
      },
      "source": [
        "# Enhanced convolutional NN for code-mixed sentiment analysis"
      ]
    },
    {
      "cell_type": "markdown",
      "metadata": {
        "id": "3q7uTz3Xx8RI",
        "colab_type": "text"
      },
      "source": [
        "# Data loading"
      ]
    },
    {
      "cell_type": "markdown",
      "metadata": {
        "id": "QyT9l_RLQAy3",
        "colab_type": "text"
      },
      "source": [
        "We load the data from a conll-formatted file and extract all tweets and their sentiment polarity.\n",
        "\n",
        "\"#meta= 1 positive\n",
        "\n",
        "word1 lang1\n",
        "\n",
        "word2 lang1\n",
        "\n",
        "word3 lang2\n",
        "\n",
        "word4 other\""
      ]
    },
    {
      "cell_type": "code",
      "metadata": {
        "id": "Juexqld-x-x5",
        "colab_type": "code",
        "colab": {}
      },
      "source": [
        "!pip install conllu\n",
        "# !pip install matplotlib==3.1.0 # In case bugged version that outputs cut confusion matrices\n",
        "from conllu import parse\n",
        "from numpy import asarray, zeros, array, unique\n",
        "\n",
        "data_path = '/content/drive/My Drive/RD/backup_train_conll_spanglish.txt'\n",
        "\n",
        "with open(data_path, \"r\") as in_file:\n",
        "    data = in_file.read()\n",
        "    \n",
        "sentences = parse(data, fields=[\"form\", \"tag\"], \\\n",
        "metadata_parsers={\"meta\": lambda key, value: (key, value.split(\"\\t\"))})"
      ],
      "execution_count": 0,
      "outputs": []
    },
    {
      "cell_type": "markdown",
      "metadata": {
        "id": "Zn42ABxN7OGV",
        "colab_type": "text"
      },
      "source": [
        "# Pre-processing"
      ]
    },
    {
      "cell_type": "markdown",
      "metadata": {
        "id": "qaoJJQ_JQQL2",
        "colab_type": "text"
      },
      "source": [
        "We clean the data, use the TweetTokenizer from NLTK to tokenize and remove usernames. We remove URLs and add hashtags that had a dummy form in the original file"
      ]
    },
    {
      "cell_type": "code",
      "metadata": {
        "id": "0mFHBWoEVDpn",
        "colab_type": "code",
        "colab": {}
      },
      "source": [
        "import nltk\n",
        "nltk.download('stopwords')"
      ],
      "execution_count": 0,
      "outputs": []
    },
    {
      "cell_type": "code",
      "metadata": {
        "id": "bNNIibvz7Q4R",
        "colab_type": "code",
        "outputId": "806f803c-6b9a-4ee5-f136-3b95fff50c26",
        "colab": {
          "base_uri": "https://localhost:8080/",
          "height": 285
        }
      },
      "source": [
        "import re\n",
        "from nltk.tokenize import casual_tokenize\n",
        "from nltk.corpus import stopwords\n",
        "from keras.utils import to_categorical\n",
        "from sklearn.model_selection import train_test_split\n",
        "from sklearn.utils import class_weight\n",
        "import seaborn as sns\n",
        "import pandas as pd\n",
        "\n",
        "tools = ['tweet_tokenize',\n",
        "         'url_remove',\n",
        "         ]\n",
        "\n",
        "whitelist = {'no', \"doesn't\", 'nor', 'couldn', \"won't\", \"wouldn't\", 'very', \"you're\", \"isn't\", 'off', 'why', 'muy', 'muchos', 'todo', 'poco',}\n",
        "\n",
        "patterns = {\n",
        "    'urls': '\\w+:\\/{2}[\\d\\w-]+(\\.[\\d\\w-]+)*(?:(?:\\/[^\\s/]*))*',\n",
        "}\n",
        "\n",
        "stopwords = (set(stopwords.words('english')) | set(stopwords.words('spanish')) | {'ke'}) - whitelist\n",
        "\n",
        "# Pre-process raw data and insert in numpy arrays\n",
        "### TO OPTIMIZE / DO IN OTHER FILE ###\n",
        "X, y, y_tmp = [], [], []\n",
        "for i in range(len(sentences)):\n",
        "    phrase = ''\n",
        "    for word in sentences[i]:\n",
        "        if word['form'].lower() in stopwords:\n",
        "            pass\n",
        "        else:\n",
        "            phrase += ' ' + word[\"form\"] if len(phrase) != 0 else word[\"form\"]\n",
        "    if 'tweet_tokenize' in tools:\n",
        "        # Adapted tokenization, removes usernames and shortens character repetitions\n",
        "        phrase = ' '.join(casual_tokenize(phrase, reduce_len=True, strip_handles=True))\n",
        "    if 'url_remove' in tools:\n",
        "        phrase = re.sub(re.compile(patterns['urls']), \"\", phrase)\n",
        "    X.append(phrase)\n",
        "    y_tmp.append(sentences[i].metadata[\"meta\"][1])\n",
        "    \n",
        "for i in y_tmp:\n",
        "    if i == 'positive':\n",
        "        y.append(0)\n",
        "    elif i == 'neutral':\n",
        "        y.append(1)\n",
        "    else:\n",
        "        y.append(2)\n",
        "\n",
        "# Ploting the categorical distribution\n",
        "df = pd.DataFrame()\n",
        "df[\"tweet\"] = X\n",
        "df[\"sentiment\"] = y\n",
        "sns.set(style=\"darkgrid\")\n",
        "sns.countplot(x='sentiment', data=df, hue='sentiment')\n",
        "\n",
        "# Computing the class weight penalties\n",
        "class_weights = class_weight.compute_class_weight('balanced', unique(y), y)\n",
        "#We need the class weights to be a dictionary\n",
        "class_weights = dict(enumerate(class_weights))\n",
        "\n",
        "# Multi-label classification\n",
        "y = to_categorical(y, 3)\n",
        "X = asarray(X)\n",
        "\n",
        "# Splitting the data sets\n",
        "test_size = 0.1\n",
        "X_train, X_test, y_train, y_test = train_test_split(X, y, test_size=test_size, random_state=42)"
      ],
      "execution_count": 0,
      "outputs": [
        {
          "output_type": "display_data",
          "data": {
            "image/png": "[encoded data removed]",
            "text/plain": [
              "<Figure size 432x288 with 1 Axes>"
            ]
          },
          "metadata": {
            "tags": []
          }
        }
      ]
    },
    {
      "cell_type": "markdown",
      "metadata": {
        "id": "O4iY5d0qOX34",
        "colab_type": "text"
      },
      "source": [
        "# Embedding"
      ]
    },
    {
      "cell_type": "markdown",
      "metadata": {
        "id": "kZeAR-WGP3Hb",
        "colab_type": "text"
      },
      "source": [
        "Helper function to create character embedding inputs. We start by creating a nested list of zeros, each representing a character in the sentence (+ padding until the maximum sentence/word length). Then we replace zeros with their corresponding index in the keras tokenizer object.\n",
        "\n",
        "This function is an equivalent to texts_to_sequences() + pad_sequences()."
      ]
    },
    {
      "cell_type": "code",
      "metadata": {
        "id": "6wD6lT79Pj9k",
        "colab_type": "code",
        "cellView": "code",
        "colab": {}
      },
      "source": [
        "def toCharInput(sentences, tokenizer, s_len, w_len):\n",
        "    \"\"\"\n",
        "    Converts a list of sentences into character input\n",
        "    with dimensions (batch_size, word_vocab, char_vocab)\n",
        "\n",
        "    :param sentences: list of strings\n",
        "    :param tokenizer: Tokenizer object fitted on train data\n",
        "    :param s_len: longest possible sentence size\n",
        "    :param w_len: longest possible word size\n",
        "\n",
        "    :return char_input: post-padded character-based input for character embedding layer\n",
        "    \"\"\"\n",
        "    sentences_len = len(sentences)\n",
        "\n",
        "    # 3-dimentional matrix where each 0 is a character in a word in a sentence\n",
        "    char_input = [[[0] * w_len for _ in range(s_len)] for _ in range(sentences_len)]\n",
        "\n",
        "    for sentence_i, sentence in enumerate(sentences):\n",
        "        for word_i, word in enumerate(sentence):\n",
        "            if word_i >= s_len:\n",
        "                break\n",
        "            for char_i, char in enumerate(word):\n",
        "                if char_i >= w_len:\n",
        "                    break\n",
        "                char_input[sentence_i][word_i][char_i] = tokenizer.word_index.get(char)\n",
        "\n",
        "    return asarray(char_input)"
      ],
      "execution_count": 0,
      "outputs": []
    },
    {
      "cell_type": "markdown",
      "metadata": {
        "id": "k7eGEg1KXuqi",
        "colab_type": "text"
      },
      "source": [
        "Build word and character inputs, get the size of word and character vocabularies."
      ]
    },
    {
      "cell_type": "code",
      "metadata": {
        "id": "_z9PZLT6OdTK",
        "colab_type": "code",
        "colab": {}
      },
      "source": [
        "from keras.preprocessing.text import Tokenizer\n",
        "from keras.preprocessing.sequence import pad_sequences\n",
        "\n",
        "s_length = 100\n",
        "w_length = 50\n",
        "filters = '\"$%&*+,-./<=>[\\\\]`°{|}~\\t\\n'\n",
        "\n",
        "# Tokenizer objects \n",
        "word_tokenizer = Tokenizer(num_words=10000, filters=filters, lower=True, char_level=False)\n",
        "char_tokenizer = Tokenizer(num_words=10000, char_level=True, lower=False)\n",
        "\n",
        "# Adapt to the training data\n",
        "word_tokenizer.fit_on_texts(X_train)\n",
        "char_tokenizer.fit_on_texts(X_train)\n",
        "\n",
        "# Creating inputs for the character embedding layer\n",
        "C_train = toCharInput(X_train, char_tokenizer, s_length, w_length)\n",
        "C_test = toCharInput(X_test, char_tokenizer, s_length, w_length)\n",
        "\n",
        "# Each word becomes its index from the word->index frequency dictionary\n",
        "X_train = word_tokenizer.texts_to_sequences(X_train)\n",
        "X_test = word_tokenizer.texts_to_sequences(X_test)\n",
        "\n",
        "# Get word/character vocabulary sizes\n",
        "word_vocab_size = len(word_tokenizer.word_index) + 1\n",
        "char_vocab_size = len(char_tokenizer.word_index) + 1\n",
        "\n",
        "# Add zeros to sequences until max sentence length\n",
        "X_train = pad_sequences(X_train, padding='post', maxlen=s_length)\n",
        "X_test = pad_sequences(X_test, padding='post', maxlen=s_length)"
      ],
      "execution_count": 0,
      "outputs": []
    },
    {
      "cell_type": "markdown",
      "metadata": {
        "id": "CCpk_A1vXnYe",
        "colab_type": "text"
      },
      "source": [
        "Load GloVe or fastText word embeddings."
      ]
    },
    {
      "cell_type": "code",
      "metadata": {
        "id": "q-8EUimQVOke",
        "colab_type": "code",
        "colab": {}
      },
      "source": [
        "##### DO NOT RERUN THIS CELL #####\n",
        "\n",
        "from itertools import islice\n",
        "\n",
        "es_embd = '/content/drive/My Drive/RD/wiki.es.align.vec'\n",
        "en_embd = '/content/drive/My Drive/RD/wiki.en.align.vec'\n",
        "glove = '/content/drive/My Drive/RD/glove.twitter.27B.200d.txt'\n",
        "\n",
        "EMBD = 'glove'\n",
        "\n",
        "def load_words(embd_filepath):\n",
        "    embd_dict = dict()\n",
        "    with open(embd_filepath, encoding=\"utf8\") as emb_file:\n",
        "        for line in islice(emb_file, 1, None):\n",
        "            records = line.split(' ')\n",
        "            word = records[0]\n",
        "            vector = asarray(records[1:], dtype='float32')            \n",
        "            embd_dict[word] = vector\n",
        "    return embd_dict\n",
        "\n",
        "if EMBD == 'fasttext':\n",
        "    embd_dict = load_words(en_embd)\n",
        "    words_es = load_words(es_embd)\n",
        "\n",
        "    # Dealing with words that are in both embeddings by averaging their vectors\n",
        "    for k, v in words_es.items():\n",
        "        if k in embd_dict.keys():\n",
        "            embd_dict[k] = [(x+y)/2 for x,y in zip(*[v, embd_dict[k]])]\n",
        "        else:\n",
        "            embd_dict[k] = v\n",
        "elif EMBD == 'glove':\n",
        "    embd_dict = load_words(glove)\n",
        "else:\n",
        "    raise ValueError(\"Wrong embedding name.\")"
      ],
      "execution_count": 0,
      "outputs": []
    },
    {
      "cell_type": "code",
      "metadata": {
        "id": "mnvl0rBbiNqa",
        "colab_type": "code",
        "colab": {}
      },
      "source": [
        "# Creation of the word embedding\n",
        "word_embedding = zeros((word_vocab_size, 300))\n",
        "for word, index in word_tokenizer.word_index.items():\n",
        "    embedding_vector = embd_dict.get(word)\n",
        "    if embedding_vector is not None:\n",
        "        word_embedding[index] = embedding_vector"
      ],
      "execution_count": 0,
      "outputs": []
    },
    {
      "cell_type": "markdown",
      "metadata": {
        "id": "fyS61wFCYmBo",
        "colab_type": "text"
      },
      "source": [
        "We print the rate of words in our vocabulary that are present in the embedding matrix."
      ]
    },
    {
      "cell_type": "code",
      "metadata": {
        "id": "pTvU1CVvYCGY",
        "colab_type": "code",
        "outputId": "b39351bd-784b-4a96-f8ce-a0ad506f285e",
        "colab": {
          "base_uri": "https://localhost:8080/",
          "height": 34
        }
      },
      "source": [
        "from numpy import count_nonzero\n",
        "\n",
        "rate = (count_nonzero(count_nonzero(word_embedding, axis=1)) / word_vocab_size) * 100\n",
        "print(str(rate) + \"%\", \"of the vocabulary was found in the pre-trained embedding.\")"
      ],
      "execution_count": 0,
      "outputs": [
        {
          "output_type": "stream",
          "text": [
            "82.47444081166641% of the vocabulary was found in the pre-trained embedding.\n"
          ],
          "name": "stdout"
        }
      ]
    },
    {
      "cell_type": "markdown",
      "metadata": {
        "id": "rUm6sKM-ZJA3",
        "colab_type": "text"
      },
      "source": [
        "# Embedding layer"
      ]
    },
    {
      "cell_type": "markdown",
      "metadata": {
        "id": "ZYlSnTN0aiUK",
        "colab_type": "text"
      },
      "source": [
        "Concatenation of pre-trained word Embeddings (GloVe) and randomly initialized character embeddings."
      ]
    },
    {
      "cell_type": "code",
      "metadata": {
        "id": "io8IVxwpZML0",
        "colab_type": "code",
        "colab": {}
      },
      "source": [
        "def embd_layer(vocab_word_size,\n",
        "               vocab_char_size,\n",
        "               word_embd_dim,\n",
        "               char_embd_dim,\n",
        "               word_embd_weights,\n",
        "               char_embd_weights = None,\n",
        "               word_embd_trainable = False,\n",
        "               char_embd_trainable = True,\n",
        "               max_word_len = None,\n",
        "               char_hidden_type = 'lstm',\n",
        "               char_hidden_dim = 25):\n",
        "    \"\"\"\n",
        "    Returns both inputs and the embedding layer\n",
        "    \"\"\"\n",
        "    \n",
        "    word_input_layer = Input(shape=(None,), name='Input_Word')\n",
        "    \n",
        "    char_input_layer = Input(shape=(None, max_word_len), name='Input_Char')\n",
        "    \n",
        "    word_embd_layer = Embedding(\n",
        "        input_dim=vocab_word_size,\n",
        "        output_dim=word_embd_dim,\n",
        "        weights=word_embd_weights,\n",
        "        trainable=word_embd_trainable,\n",
        "        name='Embedding_Word',\n",
        "    )(word_input_layer)\n",
        "    \n",
        "    char_embd_layer = Embedding(\n",
        "        input_dim=vocab_char_size,\n",
        "        output_dim=char_embd_dim,\n",
        "        weights=char_embd_weights,\n",
        "        embeddings_initializer='random_uniform',\n",
        "        trainable=char_embd_trainable,\n",
        "        name='Embedding_Char_Pre',\n",
        "    )(char_input_layer)\n",
        "    \n",
        "    char_hidden_layer = Bidirectional(LSTM(\n",
        "                units=char_hidden_dim,\n",
        "                input_shape=(max_word_len, vocab_char_size),\n",
        "                return_sequences=False,\n",
        "                return_state=False))\n",
        "    \n",
        "    char_embd_layer = TimeDistributed(layer=char_hidden_layer, name='Embedding_Char_Final',)(char_embd_layer)\n",
        "    \n",
        "    embd_layer = Concatenate(name='Embedding',)([word_embd_layer, char_embd_layer])\n",
        "    \n",
        "    return [word_input_layer, char_input_layer], embd_layer"
      ],
      "execution_count": 0,
      "outputs": []
    },
    {
      "cell_type": "markdown",
      "metadata": {
        "id": "H4vpJlHRgrYb",
        "colab_type": "text"
      },
      "source": [
        "# Model"
      ]
    },
    {
      "cell_type": "markdown",
      "metadata": {
        "id": "kFdhrP8zPVNV",
        "colab_type": "text"
      },
      "source": [
        "Building the neural network. "
      ]
    },
    {
      "cell_type": "code",
      "metadata": {
        "id": "ZfpUhH1Ygtlh",
        "colab_type": "code",
        "colab": {}
      },
      "source": [
        "from keras.models import Model\n",
        "from keras.layers.core import Dropout, Dense\n",
        "from keras.layers import Input, TimeDistributed, LSTM, Bidirectional, Concatenate\n",
        "from keras.layers import Conv1D, GlobalMaxPooling1D\n",
        "from keras.layers.embeddings import Embedding\n",
        "from keras.regularizers import l2\n",
        "from keras.optimizers import Adam\n",
        "import tensorflow as tf\n",
        "tf.compat.v1.logging.set_verbosity(tf.compat.v1.logging.ERROR)\n",
        "\n",
        "\"\"\" Parameters \"\"\"\n",
        "joint_embd = True\n",
        "h_dropout = 0.5\n",
        "l2_reg = 0.001\n",
        "epochs = 30\n",
        "batch_size = 64\n",
        "lr = 0.0001\n",
        "val_size = 0.15\n",
        "dense_units = 32\n",
        "\n",
        "# Joint word and character embedding\n",
        "if joint_embd:\n",
        "    inputs, embedding_layer = embd_layer(word_vocab_size, char_vocab_size, 300, 50,\n",
        "                                        [word_embedding], max_word_len=w_length,\n",
        "                                            word_embd_trainable=False)\n",
        "else:\n",
        "    # Input\n",
        "    inputs = Input(shape=(None,), name='Input')\n",
        "\n",
        "    # Embedding\n",
        "    embedding_layer = Embedding(word_vocab_size, 300, weights=[word_embedding],\n",
        "                                input_length=s_length, trainable=False)(inputs)\n",
        "\n",
        "# Convolution\n",
        "convo_layer_1 = Conv1D(64, 3, activation='relu', name='Convolution_1', kernel_regularizer=l2(l2_reg))(embedding_layer)\n",
        "pooling_layer_1 = GlobalMaxPooling1D(name='Pooling_1')(convo_layer_1)\n",
        "\n",
        "# Activation\n",
        "dropout_layer = (Dropout(h_dropout))(pooling_layer_1)\n",
        "dense_layer = Dense(dense_units, activation='relu', name='Fully_conn', kernel_regularizer=l2(l2_reg))(dropout_layer)\n",
        "dropout_layer = (Dropout(h_dropout))(dense_layer)\n",
        "\n",
        "# Classification\n",
        "dense_layer = Dense(3, activation='softmax', name='Dense_classification')(dropout_layer)\n",
        "\n",
        "# Model\n",
        "model = Model(inputs=inputs, outputs=dense_layer)\n",
        "\n",
        "model.compile(optimizer=Adam(lr=lr), loss='categorical_crossentropy', metrics=['acc'])"
      ],
      "execution_count": 0,
      "outputs": []
    },
    {
      "cell_type": "markdown",
      "metadata": {
        "id": "7aXjlXWEVcCy",
        "colab_type": "text"
      },
      "source": [
        "Training the model with early stopping to speed up the process in case the model doesn't improve, and class weights to counter "
      ]
    },
    {
      "cell_type": "code",
      "metadata": {
        "id": "csi2hovVUHSg",
        "colab_type": "code",
        "colab": {}
      },
      "source": [
        "from keras.callbacks import EarlyStopping\n",
        "\n",
        "early_stop = EarlyStopping(monitor='val_loss', min_delta=0.001, patience=2, mode='min', verbose=1)\n",
        "\n",
        "history = model.fit([X_train, C_train],\n",
        "                    y_train, batch_size=batch_size,\n",
        "                    epochs=epochs, validation_split=val_size,\n",
        "                    verbose=1, callbacks=[early_stop], class_weight=class_weights)"
      ],
      "execution_count": 0,
      "outputs": []
    },
    {
      "cell_type": "markdown",
      "metadata": {
        "id": "lJ4DfxrBV7v7",
        "colab_type": "text"
      },
      "source": [
        "# Evaluation"
      ]
    },
    {
      "cell_type": "markdown",
      "metadata": {
        "id": "hfrVnhMzWGQg",
        "colab_type": "text"
      },
      "source": [
        "Keras metrics are not reliable as they measure the average accuracy. As we deal with multilabel classification"
      ]
    },
    {
      "cell_type": "code",
      "metadata": {
        "id": "KgcZFj0MV-Ak",
        "colab_type": "code",
        "outputId": "34b6529c-c193-43c0-93ac-fc95d8a0a2e1",
        "colab": {
          "base_uri": "https://localhost:8080/",
          "height": 721
        }
      },
      "source": [
        "from numpy import argmax\n",
        "from sklearn.metrics import accuracy_score, precision_score, recall_score, f1_score\n",
        "import matplotlib.pyplot as plt\n",
        "\n",
        "y_pred = model.predict([X_test, C_test])\n",
        "y_gold = [argmax(i) for i in y_test]\n",
        "y_scores = [argmax(i) for i in y_pred]\n",
        "\n",
        "print(\"scikit evaluation on test set...\")\n",
        "print(\"Accuracy: \" + str(accuracy_score(y_gold, y_scores)))\n",
        "print(\"Precision: \" + str(precision_score(y_gold, y_scores, average='weighted')))\n",
        "print(\"Recall: \" + str(recall_score(y_gold, y_scores, average='weighted')))\n",
        "print(\"F1 Score: \" + str(f1_score(y_gold, y_scores, average='weighted')))\n",
        "\n",
        "print(\"Keras evaluation on test set...\")\n",
        "results = model.evaluate([X_test, C_test], y_test)\n",
        "print(results)\n",
        "\n",
        "plt.plot(history.history['acc'])\n",
        "plt.plot(history.history['val_acc'])\n",
        "\n",
        "plt.title('model accuracy')\n",
        "plt.ylabel('accuracy')\n",
        "plt.xlabel('epoch')\n",
        "plt.legend(['train','validation'], loc = 'upper left')\n",
        "plt.show()\n",
        "\n",
        "plt.plot(history.history['loss'])\n",
        "plt.plot(history.history['val_loss'])\n",
        "\n",
        "plt.title('model loss')\n",
        "plt.ylabel('loss')\n",
        "plt.xlabel('epoch')\n",
        "plt.legend(['train','validation'], loc = 'upper left')\n",
        "plt.show()"
      ],
      "execution_count": 0,
      "outputs": [
        {
          "output_type": "stream",
          "text": [
            "scikit evaluation on test set...\n",
            "Accuracy: 0.508\n",
            "Precision: 0.5366232110758202\n",
            "Recall: 0.508\n",
            "F1 Score: 0.5128553160523172\n",
            "Keras evaluation on test set...\n",
            "1500/1500 [==============================] - 4s 3ms/step\n",
            "[1.0353015298843384, 0.5079999996821085]\n"
          ],
          "name": "stdout"
        },
        {
          "output_type": "display_data",
          "data": {
            "image/png": "[encoded data removed]",
            "text/plain": [
              "<Figure size 432x288 with 1 Axes>"
            ]
          },
          "metadata": {
            "tags": []
          }
        },
        {
          "output_type": "display_data",
          "data": {
            "image/png": "[encoded data removed]",
            "text/plain": [
              "<Figure size 432x288 with 1 Axes>"
            ]
          },
          "metadata": {
            "tags": []
          }
        }
      ]
    },
    {
      "cell_type": "markdown",
      "metadata": {
        "id": "8U522yWQLq4_",
        "colab_type": "text"
      },
      "source": [
        "# Confusion matrix"
      ]
    },
    {
      "cell_type": "code",
      "metadata": {
        "id": "06Xr5NvKLn9J",
        "colab_type": "code",
        "colab": {}
      },
      "source": [
        "from sklearn.metrics import confusion_matrix\n",
        "import numpy as np\n",
        "\n",
        "def plot_confusion_matrix(cm, classes,\n",
        "                          normalize=False,\n",
        "                          title='Confusion matrix',\n",
        "                          cmap=plt.cm.YlOrRd):\n",
        "    \"\"\"\n",
        "    This function prints and plots the confusion matrix.\n",
        "    Normalization can be applied by setting `normalize=True`.\n",
        "    \"\"\"\n",
        "    import itertools\n",
        "    if normalize:\n",
        "        cm = cm.astype('float') / cm.sum(axis=1)[:, np.newaxis]\n",
        "        print(\"Normalized confusion matrix\")\n",
        "\n",
        "    #print(cm)\n",
        "\n",
        "    plt.imshow(cm, interpolation='nearest', cmap=cmap)\n",
        "    plt.title(title)\n",
        "    plt.colorbar()\n",
        "    plt.grid(None)\n",
        "    tick_marks = np.arange(len(classes))\n",
        "    plt.xticks(tick_marks, classes, rotation=45)\n",
        "    plt.yticks(tick_marks, classes)\n",
        "\n",
        "    fmt = '.2f' if normalize else 'd'\n",
        "    thresh = cm.max() / 2.\n",
        "    for i, j in itertools.product(range(cm.shape[0]), range(cm.shape[1])):\n",
        "        plt.text(j, i, format(cm[i, j], fmt),\n",
        "                 horizontalalignment=\"center\",\n",
        "                 color=\"white\" if cm[i, j] > thresh else \"black\")\n",
        "\n",
        "    plt.ylabel('True label')\n",
        "    plt.xlabel('Predicted label')\n",
        "    plt.tight_layout()\n",
        "\n",
        "    plt.savefig('/content/drive/My Drive/RD/CNNenhanced.png', bbox_inches='tight', quality=50)"
      ],
      "execution_count": 0,
      "outputs": []
    },
    {
      "cell_type": "code",
      "metadata": {
        "id": "XWTDi32MLwvH",
        "colab_type": "code",
        "outputId": "d2b0441a-a493-4be8-c613-9d7bb4c33ee9",
        "colab": {
          "base_uri": "https://localhost:8080/",
          "height": 293
        }
      },
      "source": [
        "cnf_matrix = confusion_matrix(y_gold, y_scores, labels=[0, 1, 2])\n",
        "np.set_printoptions(precision=2)\n",
        "\n",
        "# Plot non-normalized confusion matrix\n",
        "plt.figure()\n",
        "plot_confusion_matrix(cnf_matrix, classes=['Positive', 'Neutral', 'Negative'], title='')"
      ],
      "execution_count": 0,
      "outputs": [
        {
          "output_type": "display_data",
          "data": {
            "image/png": "[encoded data removed]",
            "text/plain": [
              "<Figure size 432x288 with 2 Axes>"
            ]
          },
          "metadata": {
            "tags": []
          }
        }
      ]
    },
    {
      "cell_type": "markdown",
      "metadata": {
        "id": "ZxxfUcjtbrV_",
        "colab_type": "text"
      },
      "source": [
        "# Logs"
      ]
    },
    {
      "cell_type": "markdown",
      "metadata": {
        "id": "qk_miKAxfLok",
        "colab_type": "text"
      },
      "source": [
        "I choose to keep track of global model parameters, but it is also possible to use the Callback() class from keras to produce per-epoch logs of loss and accuracy.\n",
        "\n",
        "These logs are directly appended to a text file located on the Drive."
      ]
    },
    {
      "cell_type": "code",
      "metadata": {
        "id": "PjKmec8abs3A",
        "colab_type": "code",
        "colab": {}
      },
      "source": [
        "import datetime\n",
        "\n",
        "version = '1.3.2 - 1 convolution, 2 dense with dropout between the 2. fasttext + class weights + charEmbd'\n",
        "log_hyperparam = {\n",
        "    \"validation\": val_size,\n",
        "    \"s_length\": s_length,\n",
        "    \"w_length\": w_length,\n",
        "    \"epochs\": epochs,\n",
        "    \"batch\": batch_size,\n",
        "    \"hidden_dropout\": h_dropout,\n",
        "    \"L2\": l2_reg,\n",
        "    \"l_rate\": lr,\n",
        "}\n",
        "\n",
        "log_filepath = '/content/drive/My Drive/RD/results_log.txt'\n",
        "\n",
        "print(\"Writing logs...\")\n",
        "with open(log_filepath, \"a+\") as out_file:\n",
        "    out_file.write(8*\"#\" + str(datetime.datetime.now()) + 8*\"#\" + \"\\n\")\n",
        "    out_file.write(\"Model version:\" + version + \"\\n\")\n",
        "    out_file.write(str(log_hyperparam) + \"\\n\")\n",
        "    out_file.write(\"Train accuracy\" + str([\"%.3f\" %a for a in history.history['acc']]) + \"\\n\")\n",
        "    out_file.write(\"Val accuracy\" + str([\"%.3f\" %a for a in history.history['val_acc']]) + \"\\n\")\n",
        "    out_file.write(\"Train loss\" + str([\"%.3f\" %a for a in history.history['loss']]) + \"\\n\")\n",
        "    out_file.write(\"Val loss\" + str([\"%.3f\" %a for a in history.history['val_loss']]) + \"\\n\")\n",
        "    out_file.write(\"Keras test metrics: \" + str(results) + \"\\n\")\n",
        "    out_file.write(\"\\n\")\n",
        "print(\"Done.\")"
      ],
      "execution_count": 0,
      "outputs": []
    },
    {
      "cell_type": "code",
      "metadata": {
        "id": "iAhMA2yihNkq",
        "colab_type": "code",
        "colab": {}
      },
      "source": [
        ""
      ],
      "execution_count": 0,
      "outputs": []
    }
  ]
}